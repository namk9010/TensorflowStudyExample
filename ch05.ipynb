{
  "nbformat": 4,
  "nbformat_minor": 0,
  "metadata": {
    "colab": {
      "name": "ch05.ipynb",
      "provenance": [],
      "collapsed_sections": [],
      "toc_visible": true,
      "include_colab_link": true
    },
    "kernelspec": {
      "name": "python3",
      "display_name": "Python 3"
    },
    "language_info": {
      "name": "python"
    }
  },
  "cells": [
    {
      "cell_type": "markdown",
      "metadata": {
        "id": "view-in-github",
        "colab_type": "text"
      },
      "source": [
        "<a href=\"https://colab.research.google.com/github/namk9010/TensorflowStudyExample/blob/master/ch05.ipynb\" target=\"_parent\"><img src=\"https://colab.research.google.com/assets/colab-badge.svg\" alt=\"Open In Colab\"/></a>"
      ]
    },
    {
      "cell_type": "markdown",
      "source": [
        "# **Ch5 Discrete Distributions**"
      ],
      "metadata": {
        "id": "9MAvQ7C0n4-n"
      }
    },
    {
      "cell_type": "markdown",
      "source": [
        "pmf pdf https://www.researchgate.net/figure/The-pmf-and-cdf-of-u-o_fig1_319450178\n",
        "\n",
        "cdf pdf https://jangjy.tistory.com/113\n",
        "\n",
        "cdf ppf http://work.thaslwanter.at/Stats/html/statsDistributions.html"
      ],
      "metadata": {
        "id": "36TCxQlDdp4W"
      }
    },
    {
      "cell_type": "markdown",
      "source": [
        "## **Binomial distribution**"
      ],
      "metadata": {
        "id": "HNWG2OYRT7RZ"
      }
    },
    {
      "cell_type": "code",
      "execution_count": null,
      "metadata": {
        "colab": {
          "base_uri": "https://localhost:8080/",
          "height": 338
        },
        "id": "6aWgGxbf9mBq",
        "outputId": "d56e7d4a-ee15-4e00-b450-c2f2aac61fb3"
      },
      "outputs": [
        {
          "output_type": "display_data",
          "data": {
            "text/plain": [
              "<Figure size 432x288 with 1 Axes>"
            ],
            "image/png": "[encoded data removed]"
          },
          "metadata": {
            "needs_background": "light"
          }
        },
        {
          "output_type": "stream",
          "name": "stdout",
          "text": [
            "[4.74756151e-03 3.05200383e-02 9.15601148e-02 1.70040213e-01\n",
            " 2.18623131e-01 2.06130381e-01 1.47235986e-01 8.11300333e-02\n",
            " 3.47700143e-02 1.15900048e-02 2.98028694e-03 5.80575378e-04\n",
            " 8.29393397e-05 8.20279183e-06 5.02211745e-07 1.43489070e-08]\n"
          ]
        }
      ],
      "source": [
        "import numpy as np\n",
        "import matplotlib.pyplot as plt\n",
        "from math import factorial\n",
        "\n",
        "# Probability density of the binomial distribution\n",
        "def bin_dist(k, n, p):\n",
        "    nck = factorial(n) / (factorial(k) * factorial(n - k))\n",
        "    pd = nck * p**k * (1-p)**(n-k)\n",
        "    return pd\n",
        "\n",
        "\n",
        "x = np.arange(16)\n",
        "pd1 = np.array([bin_dist(k, 15, 0.3) for k in range(16)])\n",
        "plt.ylim(0, 0.3)\n",
        "plt.text(12.5, 0.28, 'n, p = 15, 0.3')\n",
        "plt.bar(x, pd1, color='lightcoral')\n",
        "plt.show()\n",
        "print(pd1)"
      ]
    },
    {
      "cell_type": "code",
      "source": [
        "n, p = 15, 0.3\n",
        "s = np.random.binomial(n, p, 40)\n",
        "print(s)"
      ],
      "metadata": {
        "colab": {
          "base_uri": "https://localhost:8080/"
        },
        "id": "guP5Wr7_CA6e",
        "outputId": "9b956d11-5fff-4352-dadb-ecf9bd2896ba"
      },
      "execution_count": null,
      "outputs": [
        {
          "output_type": "stream",
          "name": "stdout",
          "text": [
            "[2 3 4 3 8 3 6 4 3 5 5 3 5 4 2 5 5 4 3 6 3 7 6 4 6 4 2 1 5 6 2 2 3 6 1 1 5\n",
            " 3 6 4]\n"
          ]
        }
      ]
    },
    {
      "cell_type": "code",
      "source": [
        "sum(np.random.binomial(15, 0.3, 20000) == 3)/20000."
      ],
      "metadata": {
        "colab": {
          "base_uri": "https://localhost:8080/"
        },
        "id": "_OOVtQ2ODgPn",
        "outputId": "2b9705ad-c5f1-431e-bf73-515f0ab7e8b5"
      },
      "execution_count": null,
      "outputs": [
        {
          "output_type": "execute_result",
          "data": {
            "text/plain": [
              "0.1721"
            ]
          },
          "metadata": {},
          "execution_count": 36
        }
      ]
    },
    {
      "cell_type": "markdown",
      "source": [
        "**scipy.stats.binom 이용**\n",
        "https://docs.scipy.org/doc/scipy/reference/generated/scipy.stats.binom.html"
      ],
      "metadata": {
        "id": "UZ_W0obUDkl2"
      }
    },
    {
      "cell_type": "code",
      "source": [
        "from scipy.stats import binom\n",
        "import matplotlib.pyplot as plt\n",
        "\n",
        "n, p = 20, 0.7\n",
        "mean, var, skew, kurt = binom.stats(n, p, moments='mvsk')\n",
        "mean, var, skew, kurt"
      ],
      "metadata": {
        "colab": {
          "base_uri": "https://localhost:8080/"
        },
        "id": "1ZrPXC5KVgoc",
        "outputId": "747e737f-3872-43d0-dd7f-90b80472e181"
      },
      "execution_count": null,
      "outputs": [
        {
          "output_type": "execute_result",
          "data": {
            "text/plain": [
              "(array(14.), array(4.2), array(-0.19518001), array(-0.06190476))"
            ]
          },
          "metadata": {},
          "execution_count": 37
        }
      ]
    },
    {
      "cell_type": "code",
      "source": [
        "fig, ax = plt.subplots(1, 1)\n",
        "\n",
        "x = np.arange(binom.ppf(0.01, n, p), binom.ppf(0.99, n, p))\n",
        "ax.plot(x, binom.pmf(x, n, p), 'bo', ms=8, label='binom pmf')\n",
        "ax.vlines(x, 0, binom.pmf(x, n, p), colors='b', lw=10, alpha=0.2)\n",
        "\n",
        "rv = binom(n, p)  # 파라미터가 고정된 binom object\n",
        "ax.vlines(x, 0, rv.pmf(x), colors='k', linestyles='-', lw=1,\n",
        "        label='frozen pmf')\n",
        "ax.legend(loc='best', frameon=False)\n",
        "plt.show()"
      ],
      "metadata": {
        "colab": {
          "base_uri": "https://localhost:8080/",
          "height": 268
        },
        "id": "6C21JzjsWb_n",
        "outputId": "ae4cbab9-389e-4c04-deec-48f748aeb112"
      },
      "execution_count": null,
      "outputs": [
        {
          "output_type": "display_data",
          "data": {
            "text/plain": [
              "<Figure size 432x288 with 1 Axes>"
            ],
            "image/png": "[encoded data removed]"
          },
          "metadata": {
            "needs_background": "light"
          }
        }
      ]
    },
    {
      "cell_type": "code",
      "source": [
        "prob = binom.cdf(x, n, p)\n",
        "np.allclose(x, binom.ppf(prob, n, p))"
      ],
      "metadata": {
        "colab": {
          "base_uri": "https://localhost:8080/"
        },
        "id": "Ytypz2Iocno0",
        "outputId": "bc9bbcdf-c99d-4d63-aa6c-0487e5561691"
      },
      "execution_count": null,
      "outputs": [
        {
          "output_type": "execute_result",
          "data": {
            "text/plain": [
              "True"
            ]
          },
          "metadata": {},
          "execution_count": 39
        }
      ]
    },
    {
      "cell_type": "code",
      "source": [
        "r = binom.rvs(n, p, size=40)\n",
        "r"
      ],
      "metadata": {
        "colab": {
          "base_uri": "https://localhost:8080/"
        },
        "id": "6_Mr97i5crHu",
        "outputId": "96458769-c921-4119-9c52-95db472605bc"
      },
      "execution_count": null,
      "outputs": [
        {
          "output_type": "execute_result",
          "data": {
            "text/plain": [
              "array([15, 14, 18, 17, 14, 13, 15, 17, 10, 14, 17, 14, 11, 16, 14, 17, 18,\n",
              "       13, 15, 15, 16, 14, 13, 10, 16, 14, 13, 13, 16, 17, 15, 15, 16, 11,\n",
              "       15, 14, 13, 13, 15, 13])"
            ]
          },
          "metadata": {},
          "execution_count": 40
        }
      ]
    },
    {
      "cell_type": "markdown",
      "source": [
        "**Exercise 5.32 Fast Food and Gas Stations**\n",
        "\n",
        "p=0.4, n=25"
      ],
      "metadata": {
        "id": "GVhsLKGnzDkx"
      }
    },
    {
      "cell_type": "code",
      "source": [
        "n, p = 25, 0.4\n",
        "mu = n*p\n",
        "sigma = np.sqrt(n*p*(1-p))\n",
        "mu, sigma"
      ],
      "metadata": {
        "colab": {
          "base_uri": "https://localhost:8080/"
        },
        "id": "Q318N1itzcb7",
        "outputId": "af7afe9a-1a9b-4208-f536-56bafc658821"
      },
      "execution_count": null,
      "outputs": [
        {
          "output_type": "execute_result",
          "data": {
            "text/plain": [
              "(10.0, 2.449489742783178)"
            ]
          },
          "metadata": {},
          "execution_count": 41
        }
      ]
    },
    {
      "cell_type": "code",
      "source": [
        "mu - 2*sigma, mu + 2*sigma"
      ],
      "metadata": {
        "id": "c-3Uxfr9z_vt",
        "colab": {
          "base_uri": "https://localhost:8080/"
        },
        "outputId": "794213d5-efe7-429e-ef94-0e86cad8f98c"
      },
      "execution_count": null,
      "outputs": [
        {
          "output_type": "execute_result",
          "data": {
            "text/plain": [
              "(5.101020514433644, 14.898979485566356)"
            ]
          },
          "metadata": {},
          "execution_count": 42
        }
      ]
    },
    {
      "cell_type": "code",
      "source": [
        "import math\n",
        "math.ceil(mu - 2*sigma), math.floor(mu + 2*sigma)"
      ],
      "metadata": {
        "colab": {
          "base_uri": "https://localhost:8080/"
        },
        "outputId": "e68a69b5-3468-4d48-e50d-a0a10804b89f",
        "id": "XpH48THmJfix"
      },
      "execution_count": null,
      "outputs": [
        {
          "output_type": "execute_result",
          "data": {
            "text/plain": [
              "(6, 14)"
            ]
          },
          "metadata": {},
          "execution_count": 43
        }
      ]
    },
    {
      "cell_type": "code",
      "source": [
        "# P(6 <= x <= 14) = P(x <= 14) - P(x <= 5)\n",
        "binom.cdf(14, 25, 0.4) - binom.cdf(5, 25, 0.4)"
      ],
      "metadata": {
        "colab": {
          "base_uri": "https://localhost:8080/"
        },
        "id": "S6x7aKFwKZ_9",
        "outputId": "86a00f90-0719-48eb-c6b7-51c0833f7f00"
      },
      "execution_count": null,
      "outputs": [
        {
          "output_type": "execute_result",
          "data": {
            "text/plain": [
              "0.9362462771170674"
            ]
          },
          "metadata": {},
          "execution_count": 44
        }
      ]
    },
    {
      "cell_type": "markdown",
      "source": [
        "For any distribution - Tchebyshef theorem: at least 0.75\n",
        "\n",
        "For mound-shaped distribution - Empirical rule: approximately 0.96"
      ],
      "metadata": {
        "id": "ulEWpC36LTjE"
      }
    },
    {
      "cell_type": "code",
      "source": [
        "fig, ax = plt.subplots(1, 1)\n",
        "\n",
        "x = np.arange(binom.ppf(0.001, n, p), binom.ppf(0.999, n, p))\n",
        "ax.plot(x, binom.pmf(x, n, p), 'bo', ms=8, label='binom pmf')\n",
        "ax.vlines(x, 0, binom.pmf(x, n, p), colors='b', lw=10, alpha=0.2)\n",
        "\n",
        "ax.legend(loc='best', frameon=False)\n",
        "plt.show()"
      ],
      "metadata": {
        "colab": {
          "base_uri": "https://localhost:8080/",
          "height": 265
        },
        "outputId": "727d3bc7-4fec-48c3-9d0a-8b541a5f784c",
        "id": "rpNTS3x_NgCd"
      },
      "execution_count": null,
      "outputs": [
        {
          "output_type": "display_data",
          "data": {
            "text/plain": [
              "<Figure size 432x288 with 1 Axes>"
            ],
            "image/png": "[encoded data removed]"
          },
          "metadata": {
            "needs_background": "light"
          }
        }
      ]
    },
    {
      "cell_type": "markdown",
      "source": [
        "## **Poission distribution**"
      ],
      "metadata": {
        "id": "Q8extQcllpOP"
      }
    },
    {
      "cell_type": "markdown",
      "source": [
        "**scipy.stats.poisson 이용**\n",
        "https://docs.scipy.org/doc/scipy/reference/generated/scipy.stats.poisson.html"
      ],
      "metadata": {
        "id": "xmsZbru2muIi"
      }
    },
    {
      "cell_type": "code",
      "source": [
        "from scipy.stats import poisson\n",
        "import matplotlib.pyplot as plt\n",
        "\n",
        "mu = 2.5\n",
        "mean, var, skew, kurt = poisson.stats(mu, moments='mvsk')\n",
        "mean, var, skew, kurt"
      ],
      "metadata": {
        "colab": {
          "base_uri": "https://localhost:8080/"
        },
        "outputId": "97efd764-5d7e-499f-b8ff-8123a984a4bf",
        "id": "X7CdSMvMmuIn"
      },
      "execution_count": null,
      "outputs": [
        {
          "output_type": "execute_result",
          "data": {
            "text/plain": [
              "(array(2.5), array(2.5), array(0.63245553), array(0.4))"
            ]
          },
          "metadata": {},
          "execution_count": 46
        }
      ]
    },
    {
      "cell_type": "code",
      "source": [
        "fig, ax = plt.subplots(1, 1)\n",
        "\n",
        "x = np.arange(poisson.ppf(0.01, mu), poisson.ppf(0.99, mu))\n",
        "ax.plot(x, poisson.pmf(x, mu), 'bo', ms=8, label='poisson pmf')\n",
        "ax.vlines(x, 0, poisson.pmf(x, mu), colors='b', lw=10, alpha=0.2)\n",
        "\n",
        "rv = poisson(mu)  # 파라미터가 고정된 poisson object\n",
        "ax.vlines(x, 0, rv.pmf(x), colors='k', linestyles='-', lw=1,\n",
        "        label='frozen pmf')\n",
        "ax.legend(loc='best', frameon=False)\n",
        "plt.show()"
      ],
      "metadata": {
        "colab": {
          "base_uri": "https://localhost:8080/",
          "height": 265
        },
        "outputId": "7031329e-046c-4880-e4db-ed863c0d1cca",
        "id": "ktIky8fymuIo"
      },
      "execution_count": null,
      "outputs": [
        {
          "output_type": "display_data",
          "data": {
            "text/plain": [
              "<Figure size 432x288 with 1 Axes>"
            ],
            "image/png": "[encoded data removed]"
          },
          "metadata": {
            "needs_background": "light"
          }
        }
      ]
    },
    {
      "cell_type": "code",
      "source": [
        "prob = poisson.cdf(x, mu)\n",
        "np.allclose(x, poisson.ppf(prob, mu))"
      ],
      "metadata": {
        "colab": {
          "base_uri": "https://localhost:8080/"
        },
        "outputId": "87f4df10-9cf2-4c00-ea0f-12b618711b78",
        "id": "izqZswNMmuIo"
      },
      "execution_count": null,
      "outputs": [
        {
          "output_type": "execute_result",
          "data": {
            "text/plain": [
              "True"
            ]
          },
          "metadata": {},
          "execution_count": 48
        }
      ]
    },
    {
      "cell_type": "code",
      "source": [
        "r = poisson.rvs(mu, size=40)\n",
        "r"
      ],
      "metadata": {
        "colab": {
          "base_uri": "https://localhost:8080/"
        },
        "outputId": "9874e426-ed2e-45b5-afe6-01a6a467bd7c",
        "id": "7oI98lFNmuIp"
      },
      "execution_count": null,
      "outputs": [
        {
          "output_type": "execute_result",
          "data": {
            "text/plain": [
              "array([2, 4, 1, 1, 5, 4, 0, 0, 1, 2, 0, 1, 3, 2, 6, 6, 3, 3, 4, 3, 2, 1,\n",
              "       3, 1, 5, 2, 5, 0, 2, 3, 2, 1, 3, 2, 2, 4, 3, 4, 4, 3])"
            ]
          },
          "metadata": {},
          "execution_count": 49
        }
      ]
    },
    {
      "cell_type": "markdown",
      "source": [
        "**Example 5.11**"
      ],
      "metadata": {
        "id": "IjfXCgu3rTOZ"
      }
    },
    {
      "cell_type": "code",
      "source": [
        "n=5000\n",
        "p=0.001\n",
        "x=4\n",
        "px=binom.pmf(x, n, p)\n",
        "px"
      ],
      "metadata": {
        "colab": {
          "base_uri": "https://localhost:8080/"
        },
        "id": "mGCAInwlraMm",
        "outputId": "ec376451-b3ce-44dc-ce1f-22b1c4bf8ba5"
      },
      "execution_count": null,
      "outputs": [
        {
          "output_type": "execute_result",
          "data": {
            "text/plain": [
              "0.17552002723394197"
            ]
          },
          "metadata": {},
          "execution_count": 50
        }
      ]
    },
    {
      "cell_type": "code",
      "source": [
        "mu=n*p\n",
        "px=poisson.pmf(x, mu)\n",
        "mu, px"
      ],
      "metadata": {
        "colab": {
          "base_uri": "https://localhost:8080/"
        },
        "id": "Ii-MjO4xr6Tq",
        "outputId": "05feee2e-5492-4e38-afb7-b386a6a7902a"
      },
      "execution_count": null,
      "outputs": [
        {
          "output_type": "execute_result",
          "data": {
            "text/plain": [
              "(5.0, 0.17546736976785063)"
            ]
          },
          "metadata": {},
          "execution_count": 51
        }
      ]
    },
    {
      "cell_type": "markdown",
      "source": [
        "**Exercise 5.43 Airport Safety**\n",
        "\n",
        "$\\mu=5$"
      ],
      "metadata": {
        "id": "3lS-W66-IG6U"
      }
    },
    {
      "cell_type": "code",
      "source": [
        "mu = 5\n",
        "# a\n",
        "poisson.pmf(0, mu)"
      ],
      "metadata": {
        "colab": {
          "base_uri": "https://localhost:8080/"
        },
        "id": "413lKyPXdt_X",
        "outputId": "442239d4-2214-4572-9465-af892f7f030e"
      },
      "execution_count": null,
      "outputs": [
        {
          "output_type": "execute_result",
          "data": {
            "text/plain": [
              "0.006737946999085467"
            ]
          },
          "metadata": {},
          "execution_count": 52
        }
      ]
    },
    {
      "cell_type": "code",
      "source": [
        "# b\n",
        "poisson.pmf(5, mu)"
      ],
      "metadata": {
        "colab": {
          "base_uri": "https://localhost:8080/"
        },
        "outputId": "e08e0805-63f1-4674-be0f-d731d8991986",
        "id": "Scx1KePKeAK-"
      },
      "execution_count": null,
      "outputs": [
        {
          "output_type": "execute_result",
          "data": {
            "text/plain": [
              "0.17546736976785068"
            ]
          },
          "metadata": {},
          "execution_count": 53
        }
      ]
    },
    {
      "cell_type": "code",
      "source": [
        "# c\n",
        "1 - poisson.cdf(4, mu)"
      ],
      "metadata": {
        "colab": {
          "base_uri": "https://localhost:8080/"
        },
        "id": "GmNOY8NTeImk",
        "outputId": "55f0d9ee-c073-4cde-d4be-fde78d3cfd00"
      },
      "execution_count": null,
      "outputs": [
        {
          "output_type": "execute_result",
          "data": {
            "text/plain": [
              "0.5595067149347874"
            ]
          },
          "metadata": {},
          "execution_count": 54
        }
      ]
    },
    {
      "cell_type": "markdown",
      "source": [
        "## **Hytergeometric distribution**"
      ],
      "metadata": {
        "id": "Rg_mnW2CIMMd"
      }
    },
    {
      "cell_type": "markdown",
      "source": [
        "**scipy.stats.hypergeom 이용**\n",
        "https://docs.scipy.org/doc/scipy/reference/generated/scipy.stats.htpergeom.html"
      ],
      "metadata": {
        "id": "sYconA5ZIMMd"
      }
    },
    {
      "cell_type": "code",
      "source": [
        "from scipy.stats import hypergeom\n",
        "import matplotlib.pyplot as plt\n",
        "\n",
        "[M, n, N] = [20, 7, 12]  # 모집단 크기, 모집단 내 성공 수, 표본 크기\n",
        "rv = hypergeom(M, n, N)  # frozen rv\n",
        "x = np.arange(0, n+1)\n",
        "pmf_dogs = rv.pmf(x)\n",
        "\n",
        "fig, (ax1, ax2) = plt.subplots(2, 1, sharex=True)\n",
        "ax1.plot(x, pmf_dogs, 'bo')\n",
        "ax1.vlines(x, 0, pmf_dogs, lw=2)\n",
        "ax1.set_xlabel('# of dogs in our group of chosen animals')\n",
        "ax1.set_ylabel('hypergeom PMF')\n",
        "\n",
        "prb = hypergeom.cdf(x, M, n, N)\n",
        "ax2.plot(x, prb, 'bo')\n",
        "ax2.vlines(x, 0, prb, lw=2)\n",
        "ax2.set_xlabel('# of dogs in our group of chosen animals')\n",
        "ax2.set_ylabel('hypergeom CDF')\n",
        "\n",
        "plt.show()"
      ],
      "metadata": {
        "colab": {
          "base_uri": "https://localhost:8080/",
          "height": 279
        },
        "outputId": "67fc421a-aae8-4eeb-8d9a-9a5408c8fd0b",
        "id": "d03bmBG6Ii4K"
      },
      "execution_count": null,
      "outputs": [
        {
          "output_type": "display_data",
          "data": {
            "text/plain": [
              "<Figure size 432x288 with 2 Axes>"
            ],
            "image/png": "[encoded data removed]"
          },
          "metadata": {
            "needs_background": "light"
          }
        }
      ]
    },
    {
      "cell_type": "code",
      "source": [
        "R = hypergeom.rvs(M, n, N, size=10)\n",
        "R"
      ],
      "metadata": {
        "colab": {
          "base_uri": "https://localhost:8080/"
        },
        "outputId": "71ecb02b-6f5a-46e6-8f2f-9ff11e872fbe",
        "id": "PAyGnq-zIi4M"
      },
      "execution_count": null,
      "outputs": [
        {
          "output_type": "execute_result",
          "data": {
            "text/plain": [
              "array([5, 5, 6, 5, 5, 5, 6, 3, 5, 4])"
            ]
          },
          "metadata": {},
          "execution_count": 56
        }
      ]
    },
    {
      "cell_type": "markdown",
      "source": [
        "**Exercise 5.56 Gender Bias?**\n",
        "\n",
        "모집단 크기 M = 5\n",
        "\n",
        "모집단 중 여자 n = 2\n",
        "\n",
        "표본크기 N = 2\n",
        "\n",
        "$p(k)=\\frac{{n \\choose k}{M-n \\choose n-k}}{M \\choose N}$\n",
        "\n",
        "$\\mu=N\\frac{n}{M}$\n",
        "\n",
        "$\\sigma^2=N\\frac{n}{M}\\frac{M-n}{M}\\frac{M-N}{M-1}$"
      ],
      "metadata": {
        "id": "sj5fTwcKR3A8"
      }
    },
    {
      "cell_type": "code",
      "source": [
        "# b\n",
        "[M, n, N] = [5, 2, 2]  # 모집단 크기, 모집단 내 성공 수, 표본 크기\n",
        "mu = N*n/M\n",
        "sigma2 = N*(n/M)*((M-n)/M)*((M-N)/(M-1))\n",
        "mu, sigma2"
      ],
      "metadata": {
        "colab": {
          "base_uri": "https://localhost:8080/"
        },
        "id": "xuPo1kkwgIxA",
        "outputId": "cb979f3a-c63f-46ee-8f40-f69948865796"
      },
      "execution_count": null,
      "outputs": [
        {
          "output_type": "execute_result",
          "data": {
            "text/plain": [
              "(0.8, 0.36)"
            ]
          },
          "metadata": {},
          "execution_count": 57
        }
      ]
    },
    {
      "cell_type": "code",
      "source": [
        "rv = hypergeom(M, n, N)  # frozen rv\n",
        "fig, ax = plt.subplots(1, 1)\n",
        "x = np.arange(0, n+1)\n",
        "ax.plot(x, rv.pmf(x), 'bo')\n",
        "ax.vlines(x, 0, rv.pmf(x), lw=2)\n",
        "ax.set_xlabel('# of women chosen')\n",
        "plt.show()\n",
        "rv.pmf(x)"
      ],
      "metadata": {
        "colab": {
          "base_uri": "https://localhost:8080/",
          "height": 296
        },
        "id": "KSYPwsMdpCbu",
        "outputId": "41b8e233-80af-4953-915e-5bff6cd77380"
      },
      "execution_count": null,
      "outputs": [
        {
          "output_type": "display_data",
          "data": {
            "text/plain": [
              "<Figure size 432x288 with 1 Axes>"
            ],
            "image/png": "[encoded data removed]"
          },
          "metadata": {
            "needs_background": "light"
          }
        },
        {
          "output_type": "execute_result",
          "data": {
            "text/plain": [
              "array([0.3, 0.6, 0.1])"
            ]
          },
          "metadata": {},
          "execution_count": 61
        }
      ]
    },
    {
      "cell_type": "code",
      "source": [
        ""
      ],
      "metadata": {
        "id": "Pk2aPekCqIlS"
      },
      "execution_count": null,
      "outputs": []
    }
  ]
}