{
  "nbformat": 4,
  "nbformat_minor": 0,
  "metadata": {
    "colab": {
      "name": "ch6.ipynb",
      "provenance": [],
      "collapsed_sections": [],
      "include_colab_link": true
    },
    "kernelspec": {
      "name": "python3",
      "display_name": "Python 3"
    },
    "language_info": {
      "name": "python"
    }
  },
  "cells": [
    {
      "cell_type": "markdown",
      "metadata": {
        "id": "view-in-github",
        "colab_type": "text"
      },
      "source": [
        "<a href=\"https://colab.research.google.com/github/namk9010/TensorflowStudyExample/blob/master/ch6.ipynb\" target=\"_parent\"><img src=\"https://colab.research.google.com/assets/colab-badge.svg\" alt=\"Open In Colab\"/></a>"
      ]
    },
    {
      "cell_type": "markdown",
      "source": [
        "## **Normal distribution**"
      ],
      "metadata": {
        "id": "xtjILlIbSu0A"
      }
    },
    {
      "cell_type": "markdown",
      "source": [
        "scipy.stats.norm 이용 https://docs.scipy.org/doc/scipy/reference/generated/scipy.stats.norm.html"
      ],
      "metadata": {
        "id": "NzG9LSORKoFW"
      }
    },
    {
      "cell_type": "code",
      "source": [
        "from scipy.stats import norm\n",
        "import numpy as np\n",
        "import matplotlib.pyplot as plt\n",
        "\n",
        "mean, var, skew, kurt = norm.stats(moments='mvsk')\n",
        "mean, var, skew, kurt"
      ],
      "metadata": {
        "colab": {
          "base_uri": "https://localhost:8080/"
        },
        "id": "1OKl52IGK2eD",
        "outputId": "fa71ee7e-221e-4137-c02c-3c4afd9af979"
      },
      "execution_count": null,
      "outputs": [
        {
          "output_type": "execute_result",
          "data": {
            "text/plain": [
              "(array(0.), array(1.), array(0.), array(0.))"
            ]
          },
          "metadata": {},
          "execution_count": 12
        }
      ]
    },
    {
      "cell_type": "code",
      "source": [
        "fig, (ax1, ax2) = plt.subplots(2, 1, sharex=True)\n",
        "x = np.linspace(norm.ppf(0.01),\n",
        "                norm.ppf(0.99), 100)\n",
        "ax1.plot(x, norm.pdf(x),\n",
        "       'r-', lw=5, alpha=0.6, label='norm pdf')\n",
        "rv = norm()  # frozon pdf\n",
        "ax1.plot(x, rv.pdf(x), 'k-', lw=2, label='frozen pdf')\n",
        "r = norm.rvs(size=1000)\n",
        "ax1.hist(r, bins=20, density=True, histtype='stepfilled', alpha=0.2)\n",
        "ax1.legend(loc='best', frameon=False)\n",
        "ax2.plot(x, norm.cdf(x), label=\"norm cdf\")\n",
        "ax2.legend(loc='best', frameon=False)\n",
        "plt.show()"
      ],
      "metadata": {
        "colab": {
          "base_uri": "https://localhost:8080/",
          "height": 265
        },
        "id": "8foH3e3AMFNW",
        "outputId": "d693d589-e6fd-47fd-8c6f-3bc5e149a363"
      },
      "execution_count": null,
      "outputs": [
        {
          "output_type": "display_data",
          "data": {
            "text/plain": [
              "<Figure size 432x288 with 2 Axes>"
            ],
            "image/png": "[encoded data removed]"
          },
          "metadata": {
            "needs_background": "light"
          }
        }
      ]
    },
    {
      "cell_type": "code",
      "source": [
        ""
      ],
      "metadata": {
        "id": "RRzIKFgaMffS"
      },
      "execution_count": null,
      "outputs": []
    },
    {
      "cell_type": "code",
      "source": [
        "vals = norm.ppf([0.001, 0.5, 0.999])\n",
        "np.allclose([0.001, 0.5, 0.999], norm.cdf(vals))"
      ],
      "metadata": {
        "colab": {
          "base_uri": "https://localhost:8080/"
        },
        "id": "PkcO-Jg2MwKY",
        "outputId": "645abf18-614d-4bc6-bbf1-b6c8f2c8ab5c"
      },
      "execution_count": null,
      "outputs": [
        {
          "output_type": "execute_result",
          "data": {
            "text/plain": [
              "True"
            ]
          },
          "metadata": {},
          "execution_count": 14
        }
      ]
    },
    {
      "cell_type": "markdown",
      "source": [
        "**Example 6.5**\n",
        "\n",
        "Find P(-0.5 < z < 1.0).\n",
        "\n",
        "P = P(z < 1.0) - P(z < -0.5) "
      ],
      "metadata": {
        "id": "CG98OpfGM52f"
      }
    },
    {
      "cell_type": "code",
      "source": [
        "fig, ax = plt.subplots()\n",
        "x = np.linspace(norm.ppf(0.01),\n",
        "                norm.ppf(0.99), 100)\n",
        "ax.plot(x, norm.pdf(x))\n",
        "plt.ylim(0.0, 0.5)\n",
        "fillx = np.linspace(-0.5, 1.0, 50)\n",
        "plt.fill_between(fillx, norm.pdf(fillx), alpha=0.2)\n",
        "plt.show()"
      ],
      "metadata": {
        "colab": {
          "base_uri": "https://localhost:8080/",
          "height": 269
        },
        "id": "EHxY3h0oSoJo",
        "outputId": "ec8ad84e-fe11-4c8d-f6c1-d896e8bf14d3"
      },
      "execution_count": null,
      "outputs": [
        {
          "output_type": "display_data",
          "data": {
            "text/plain": [
              "<Figure size 432x288 with 1 Axes>"
            ],
            "image/png": "[encoded data removed]"
          },
          "metadata": {
            "needs_background": "light"
          }
        }
      ]
    },
    {
      "cell_type": "code",
      "source": [
        "p = norm.cdf(1.0) - norm.cdf(-0.5)\n",
        "p"
      ],
      "metadata": {
        "colab": {
          "base_uri": "https://localhost:8080/"
        },
        "id": "VOm8zUJ0TlFu",
        "outputId": "62523fd0-0884-4955-c905-dab080ef23e9"
      },
      "execution_count": null,
      "outputs": [
        {
          "output_type": "execute_result",
          "data": {
            "text/plain": [
              "0.532807207342556"
            ]
          },
          "metadata": {},
          "execution_count": 16
        }
      ]
    },
    {
      "cell_type": "markdown",
      "source": [
        "**Example 6.7**\n",
        "\n",
        "Find $z_0$\n",
        "\n",
        "![image.png](data:image/png;base64,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)"
      ],
      "metadata": {
        "id": "kVjW3hKbYrj-"
      }
    },
    {
      "cell_type": "code",
      "source": [
        "z0 = norm.ppf(1-0.025)\n",
        "z0"
      ],
      "metadata": {
        "colab": {
          "base_uri": "https://localhost:8080/"
        },
        "id": "1r7Y7mQQZlzV",
        "outputId": "59cd73e8-7de3-4ed8-e4a4-580abd663613"
      },
      "execution_count": null,
      "outputs": [
        {
          "output_type": "execute_result",
          "data": {
            "text/plain": [
              "1.959963984540054"
            ]
          },
          "metadata": {},
          "execution_count": 17
        }
      ]
    },
    {
      "cell_type": "code",
      "source": [
        "fig, (ax1, ax2) = plt.subplots(2, 1, sharex=True)\n",
        "x = np.linspace(norm.ppf(0.001),\n",
        "                norm.ppf(0.999), 100)\n",
        "ax1.plot(x, norm.pdf(x))\n",
        "ax1.set_ylim(0.0, 0.5)\n",
        "fillx = np.linspace(-z0, z0, 100)\n",
        "ax1.fill_between(fillx, norm.pdf(fillx), alpha=0.2)\n",
        "ax2.plot(x, norm.cdf(x))\n",
        "plt.show()"
      ],
      "metadata": {
        "colab": {
          "base_uri": "https://localhost:8080/",
          "height": 265
        },
        "outputId": "7e7103b2-fe54-4b8b-e4a5-c023962bb804",
        "id": "70GgLWoacTC5"
      },
      "execution_count": null,
      "outputs": [
        {
          "output_type": "display_data",
          "data": {
            "text/plain": [
              "<Figure size 432x288 with 2 Axes>"
            ],
            "image/png": "[encoded data removed]"
          },
          "metadata": {
            "needs_background": "light"
          }
        }
      ]
    },
    {
      "cell_type": "markdown",
      "source": [
        "**Example 6.8**\n",
        "\n",
        "$\\mu=10, s=2$\n",
        "\n",
        "Find the probability that x lies between 11 and 13.6.\n",
        "\n",
        "![image.png](data:image/png;base64,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)"
      ],
      "metadata": {
        "id": "FcnuIh91fv_r"
      }
    },
    {
      "cell_type": "code",
      "source": [
        "mu, s = 10, 2\n",
        "\n",
        "rv = norm(loc=mu, scale=s)\n",
        "p1 = rv.cdf(13.6) - rv.cdf(11)\n",
        "\n",
        "z1, z2 = (11-mu)/s, (13.6-mu)/s \n",
        "p2 = norm.cdf(z2) - norm.cdf(z1)\n",
        "\n",
        "p1, p2"
      ],
      "metadata": {
        "colab": {
          "base_uri": "https://localhost:8080/"
        },
        "id": "jtjyKyIRgKZd",
        "outputId": "a9984fa2-fa24-482c-b67c-bff0dbeb61c0"
      },
      "execution_count": null,
      "outputs": [
        {
          "output_type": "execute_result",
          "data": {
            "text/plain": [
              "(0.2726072196130611, 0.2726072196130611)"
            ]
          },
          "metadata": {},
          "execution_count": 19
        }
      ]
    },
    {
      "cell_type": "markdown",
      "source": [
        "**Exercise 6.47 No Shows**"
      ],
      "metadata": {
        "id": "i0_mxkUchXw6"
      }
    },
    {
      "cell_type": "code",
      "source": [
        "p=0.9  # 손님이 부도내지 않을 확률\n",
        "n = 215  # 예약자 수\n",
        "# 부도내지 않는 손님 수 = X\n",
        "\n",
        "# X는 베르누이 분포를 따른다.\n",
        "# P(X<=200)을 구하는 문제이다.\n",
        "\n",
        "from scipy.stats import binom\n",
        "binom.cdf(200, n, p)"
      ],
      "metadata": {
        "colab": {
          "base_uri": "https://localhost:8080/"
        },
        "id": "vKPVtnvxbaSb",
        "outputId": "32d501d0-a5cc-49ec-a17d-928a03d92d77"
      },
      "execution_count": null,
      "outputs": [
        {
          "output_type": "execute_result",
          "data": {
            "text/plain": [
              "0.9503576896055657"
            ]
          },
          "metadata": {},
          "execution_count": 20
        }
      ]
    },
    {
      "cell_type": "code",
      "source": [
        "n*p, n*(1-p)"
      ],
      "metadata": {
        "colab": {
          "base_uri": "https://localhost:8080/"
        },
        "id": "eCQTpRO7cvqI",
        "outputId": "34e92aa8-a1f6-47b2-a556-340d97633ca2"
      },
      "execution_count": null,
      "outputs": [
        {
          "output_type": "execute_result",
          "data": {
            "text/plain": [
              "(193.5, 21.499999999999996)"
            ]
          },
          "metadata": {},
          "execution_count": 21
        }
      ]
    },
    {
      "cell_type": "code",
      "source": [
        "# n이 크고, p가 0이나 1에 너무 가깝지 않다.\n",
        "# np = 193.5 > 5 and n(1-p) = 21.5 > 5\n",
        "# 따라서 Normal approximation이 가능하다.\n",
        "mu = n*p\n",
        "sigma = np.sqrt(n * p * (1-p))\n",
        "mu, sigma, norm.cdf(200.5, mu, sigma)  # discrete --> continuous 보정!"
      ],
      "metadata": {
        "colab": {
          "base_uri": "https://localhost:8080/"
        },
        "id": "KMKAo6_rdK-o",
        "outputId": "556d7763-5f03-42cd-e682-a6729887461e"
      },
      "execution_count": null,
      "outputs": [
        {
          "output_type": "execute_result",
          "data": {
            "text/plain": [
              "(193.5, 4.398863489584554, 0.9442312250874314)"
            ]
          },
          "metadata": {},
          "execution_count": 24
        }
      ]
    },
    {
      "cell_type": "code",
      "source": [
        ""
      ],
      "metadata": {
        "id": "8j_BpA16qk4J"
      },
      "execution_count": null,
      "outputs": []
    }
  ]
}